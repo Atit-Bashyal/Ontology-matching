{
 "cells": [
  {
   "cell_type": "code",
   "execution_count": null,
   "metadata": {},
   "outputs": [],
   "source": [
    "from bs4 import BeautifulSoup\n",
    "\n",
    "def get_mappings(filename):\n",
    "    mappings = []\n",
    "\n",
    "    with open(filename) as f:\n",
    "        soup = BeautifulSoup(f, 'xml')\n",
    "\n",
    "    cells = soup.find_all('Class')\n",
    "#---------get_mappings function-----\n",
    "#     for cell in cells:\n",
    "#         print(cell)\n",
    "#         entity1 = cell.get_attribute_list\n",
    "\n",
    "#         mappings.append(entity1)\n",
    "\n",
    "#     return mappings\n",
    "# get_mappings(path2)\n",
    "#------------with dataset---------\n",
    "    for class_ in cells:\n",
    "\n",
    "        data.append((class_.name.lower(), class_.is_a[0].name.lower(), \n",
    "                     get_path(class_).lower(),''.join(class_.label).lower(),''.join(class_.comment).lower()))\n",
    "\n",
    "        dataset = pd.DataFrame(data, columns=['Name','Parent','Path','label','comment'])\n",
    "        print(dataset)\n",
    "get_mappings('saref.rdf')   \n"
   ]
  },
  {
   "cell_type": "code",
   "execution_count": null,
   "metadata": {},
   "outputs": [],
   "source": [
    "from rdflib import Graph\n",
    "\n",
    "# Create a Graph\n",
    "g = Graph()\n",
    "\n",
    "# Parse in an RDF file hosted on the Internet\n",
    "g.parse('saref.rdf')\n",
    "print(f\"Graph g has {len(g)} statements.\")\n",
    "\n",
    "\n",
    "# Loop through each triple in the graph (subj, pred, obj)\n"
   ]
  },
  {
   "cell_type": "code",
   "execution_count": null,
   "metadata": {},
   "outputs": [],
   "source": [
    "!pip install beautifulsoup4\n",
    "!pip install rdflib"
   ]
  },
  {
   "cell_type": "code",
   "execution_count": null,
   "metadata": {},
   "outputs": [],
   "source": [
    "path2= 'OntoWind.owl'\n",
    "\n",
    "onto = get_ontology(path2)\n",
    "onto.load()\n",
    "\n",
    "# Read classes\n",
    "classes = []\n",
    "\n",
    "for cl in onto.classes():\n",
    "    classes.append(cl)\n",
    "    print(cl.name)\n",
    "classes = list(set(classes))\n"
   ]
  }
 ],
 "metadata": {
  "kernelspec": {
   "display_name": "Python 3",
   "language": "python",
   "name": "python3"
  },
  "language_info": {
   "codemirror_mode": {
    "name": "ipython",
    "version": 3
   },
   "file_extension": ".py",
   "mimetype": "text/x-python",
   "name": "python",
   "nbconvert_exporter": "python",
   "pygments_lexer": "ipython3",
   "version": "3.8.3"
  }
 },
 "nbformat": 4,
 "nbformat_minor": 4
}
